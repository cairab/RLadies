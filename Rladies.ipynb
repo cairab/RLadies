{
 "cells": [
  {
   "cell_type": "markdown",
   "metadata": {},
   "source": [
    "Let's start the clock to time the Python code."
   ]
  },
  {
   "cell_type": "code",
   "execution_count": 1,
   "metadata": {
    "collapsed": true
   },
   "outputs": [],
   "source": [
    "import time\n",
    "start_time = time.time()"
   ]
  },
  {
   "cell_type": "markdown",
   "metadata": {},
   "source": [
    "Read the data."
   ]
  },
  {
   "cell_type": "code",
   "execution_count": 2,
   "metadata": {
    "collapsed": true
   },
   "outputs": [],
   "source": [
    "import pandas as pd\n",
    "train_data = pd.read_csv(\"/Users/sedacavdaroglu/Desktop/DATS_Final-master/train_housing.csv\")\n",
    "test_data = pd.read_csv(\"/Users/sedacavdaroglu/Desktop/DATS_Final-master/test_housing.csv\")"
   ]
  },
  {
   "cell_type": "markdown",
   "metadata": {},
   "source": [
    "Let's check the first 10 rows of the data to get an idea."
   ]
  },
  {
   "cell_type": "code",
   "execution_count": 3,
   "metadata": {},
   "outputs": [
    {
     "data": {
      "text/html": [
       "<div>\n",
       "<style>\n",
       "    .dataframe thead tr:only-child th {\n",
       "        text-align: right;\n",
       "    }\n",
       "\n",
       "    .dataframe thead th {\n",
       "        text-align: left;\n",
       "    }\n",
       "\n",
       "    .dataframe tbody tr th {\n",
       "        vertical-align: top;\n",
       "    }\n",
       "</style>\n",
       "<table border=\"1\" class=\"dataframe\">\n",
       "  <thead>\n",
       "    <tr style=\"text-align: right;\">\n",
       "      <th></th>\n",
       "      <th>ms.zoning</th>\n",
       "      <th>lot.frontage</th>\n",
       "      <th>lot.area</th>\n",
       "      <th>street</th>\n",
       "      <th>alley</th>\n",
       "      <th>lot.shape</th>\n",
       "      <th>land.contour</th>\n",
       "      <th>lot.config</th>\n",
       "      <th>land.slope</th>\n",
       "      <th>neighborhood</th>\n",
       "      <th>...</th>\n",
       "      <th>mo.sold</th>\n",
       "      <th>yr.sold</th>\n",
       "      <th>sale.type</th>\n",
       "      <th>sale.condition</th>\n",
       "      <th>saleprice</th>\n",
       "      <th>ln.lot.frontage</th>\n",
       "      <th>ln.lot.area</th>\n",
       "      <th>house.age</th>\n",
       "      <th>yrs.since.remod</th>\n",
       "      <th>has.2nd.floor</th>\n",
       "    </tr>\n",
       "  </thead>\n",
       "  <tbody>\n",
       "    <tr>\n",
       "      <th>0</th>\n",
       "      <td>RL</td>\n",
       "      <td>141.0</td>\n",
       "      <td>31770</td>\n",
       "      <td>Pave</td>\n",
       "      <td>No Alley</td>\n",
       "      <td>IR1</td>\n",
       "      <td>Lvl</td>\n",
       "      <td>Corner</td>\n",
       "      <td>Gtl</td>\n",
       "      <td>NAmes</td>\n",
       "      <td>...</td>\n",
       "      <td>5</td>\n",
       "      <td>2010</td>\n",
       "      <td>Warranty Deed</td>\n",
       "      <td>Normal</td>\n",
       "      <td>215000</td>\n",
       "      <td>4.948760</td>\n",
       "      <td>10.366278</td>\n",
       "      <td>50</td>\n",
       "      <td>50</td>\n",
       "      <td>0</td>\n",
       "    </tr>\n",
       "    <tr>\n",
       "      <th>1</th>\n",
       "      <td>RH</td>\n",
       "      <td>80.0</td>\n",
       "      <td>11622</td>\n",
       "      <td>Pave</td>\n",
       "      <td>No Alley</td>\n",
       "      <td>Reg</td>\n",
       "      <td>Lvl</td>\n",
       "      <td>Inside</td>\n",
       "      <td>Gtl</td>\n",
       "      <td>NAmes</td>\n",
       "      <td>...</td>\n",
       "      <td>6</td>\n",
       "      <td>2010</td>\n",
       "      <td>Warranty Deed</td>\n",
       "      <td>Normal</td>\n",
       "      <td>105000</td>\n",
       "      <td>4.382027</td>\n",
       "      <td>9.360655</td>\n",
       "      <td>49</td>\n",
       "      <td>49</td>\n",
       "      <td>0</td>\n",
       "    </tr>\n",
       "    <tr>\n",
       "      <th>2</th>\n",
       "      <td>RL</td>\n",
       "      <td>81.0</td>\n",
       "      <td>14267</td>\n",
       "      <td>Pave</td>\n",
       "      <td>No Alley</td>\n",
       "      <td>IR1</td>\n",
       "      <td>Lvl</td>\n",
       "      <td>Corner</td>\n",
       "      <td>Gtl</td>\n",
       "      <td>NAmes</td>\n",
       "      <td>...</td>\n",
       "      <td>6</td>\n",
       "      <td>2010</td>\n",
       "      <td>Warranty Deed</td>\n",
       "      <td>Normal</td>\n",
       "      <td>172000</td>\n",
       "      <td>4.394449</td>\n",
       "      <td>9.565704</td>\n",
       "      <td>52</td>\n",
       "      <td>52</td>\n",
       "      <td>0</td>\n",
       "    </tr>\n",
       "    <tr>\n",
       "      <th>3</th>\n",
       "      <td>RL</td>\n",
       "      <td>93.0</td>\n",
       "      <td>11160</td>\n",
       "      <td>Pave</td>\n",
       "      <td>No Alley</td>\n",
       "      <td>Reg</td>\n",
       "      <td>Lvl</td>\n",
       "      <td>Corner</td>\n",
       "      <td>Gtl</td>\n",
       "      <td>NAmes</td>\n",
       "      <td>...</td>\n",
       "      <td>4</td>\n",
       "      <td>2010</td>\n",
       "      <td>Warranty Deed</td>\n",
       "      <td>Normal</td>\n",
       "      <td>244000</td>\n",
       "      <td>4.532599</td>\n",
       "      <td>9.320091</td>\n",
       "      <td>42</td>\n",
       "      <td>42</td>\n",
       "      <td>0</td>\n",
       "    </tr>\n",
       "    <tr>\n",
       "      <th>4</th>\n",
       "      <td>RL</td>\n",
       "      <td>78.0</td>\n",
       "      <td>9978</td>\n",
       "      <td>Pave</td>\n",
       "      <td>No Alley</td>\n",
       "      <td>IR1</td>\n",
       "      <td>Lvl</td>\n",
       "      <td>Inside</td>\n",
       "      <td>Gtl</td>\n",
       "      <td>Gilbert</td>\n",
       "      <td>...</td>\n",
       "      <td>6</td>\n",
       "      <td>2010</td>\n",
       "      <td>Warranty Deed</td>\n",
       "      <td>Normal</td>\n",
       "      <td>195500</td>\n",
       "      <td>4.356709</td>\n",
       "      <td>9.208138</td>\n",
       "      <td>12</td>\n",
       "      <td>12</td>\n",
       "      <td>1</td>\n",
       "    </tr>\n",
       "    <tr>\n",
       "      <th>5</th>\n",
       "      <td>RL</td>\n",
       "      <td>41.0</td>\n",
       "      <td>4920</td>\n",
       "      <td>Pave</td>\n",
       "      <td>No Alley</td>\n",
       "      <td>Reg</td>\n",
       "      <td>Lvl</td>\n",
       "      <td>Inside</td>\n",
       "      <td>Gtl</td>\n",
       "      <td>StoneBr</td>\n",
       "      <td>...</td>\n",
       "      <td>4</td>\n",
       "      <td>2010</td>\n",
       "      <td>Warranty Deed</td>\n",
       "      <td>Normal</td>\n",
       "      <td>213500</td>\n",
       "      <td>3.713572</td>\n",
       "      <td>8.501064</td>\n",
       "      <td>9</td>\n",
       "      <td>9</td>\n",
       "      <td>0</td>\n",
       "    </tr>\n",
       "    <tr>\n",
       "      <th>6</th>\n",
       "      <td>RL</td>\n",
       "      <td>43.0</td>\n",
       "      <td>5005</td>\n",
       "      <td>Pave</td>\n",
       "      <td>No Alley</td>\n",
       "      <td>IR1</td>\n",
       "      <td>HLS</td>\n",
       "      <td>Inside</td>\n",
       "      <td>Gtl</td>\n",
       "      <td>StoneBr</td>\n",
       "      <td>...</td>\n",
       "      <td>1</td>\n",
       "      <td>2010</td>\n",
       "      <td>Warranty Deed</td>\n",
       "      <td>Normal</td>\n",
       "      <td>191500</td>\n",
       "      <td>3.761200</td>\n",
       "      <td>8.518193</td>\n",
       "      <td>18</td>\n",
       "      <td>18</td>\n",
       "      <td>0</td>\n",
       "    </tr>\n",
       "    <tr>\n",
       "      <th>7</th>\n",
       "      <td>RL</td>\n",
       "      <td>39.0</td>\n",
       "      <td>5389</td>\n",
       "      <td>Pave</td>\n",
       "      <td>No Alley</td>\n",
       "      <td>IR1</td>\n",
       "      <td>Lvl</td>\n",
       "      <td>Inside</td>\n",
       "      <td>Gtl</td>\n",
       "      <td>StoneBr</td>\n",
       "      <td>...</td>\n",
       "      <td>3</td>\n",
       "      <td>2010</td>\n",
       "      <td>Warranty Deed</td>\n",
       "      <td>Normal</td>\n",
       "      <td>236500</td>\n",
       "      <td>3.663562</td>\n",
       "      <td>8.592115</td>\n",
       "      <td>15</td>\n",
       "      <td>14</td>\n",
       "      <td>0</td>\n",
       "    </tr>\n",
       "    <tr>\n",
       "      <th>8</th>\n",
       "      <td>RL</td>\n",
       "      <td>60.0</td>\n",
       "      <td>7500</td>\n",
       "      <td>Pave</td>\n",
       "      <td>No Alley</td>\n",
       "      <td>Reg</td>\n",
       "      <td>Lvl</td>\n",
       "      <td>Inside</td>\n",
       "      <td>Gtl</td>\n",
       "      <td>Gilbert</td>\n",
       "      <td>...</td>\n",
       "      <td>6</td>\n",
       "      <td>2010</td>\n",
       "      <td>Warranty Deed</td>\n",
       "      <td>Normal</td>\n",
       "      <td>189000</td>\n",
       "      <td>4.094345</td>\n",
       "      <td>8.922658</td>\n",
       "      <td>11</td>\n",
       "      <td>11</td>\n",
       "      <td>1</td>\n",
       "    </tr>\n",
       "    <tr>\n",
       "      <th>9</th>\n",
       "      <td>RL</td>\n",
       "      <td>75.0</td>\n",
       "      <td>10000</td>\n",
       "      <td>Pave</td>\n",
       "      <td>No Alley</td>\n",
       "      <td>IR1</td>\n",
       "      <td>Lvl</td>\n",
       "      <td>Corner</td>\n",
       "      <td>Gtl</td>\n",
       "      <td>Gilbert</td>\n",
       "      <td>...</td>\n",
       "      <td>4</td>\n",
       "      <td>2010</td>\n",
       "      <td>Warranty Deed</td>\n",
       "      <td>Normal</td>\n",
       "      <td>175900</td>\n",
       "      <td>4.317488</td>\n",
       "      <td>9.210340</td>\n",
       "      <td>17</td>\n",
       "      <td>16</td>\n",
       "      <td>1</td>\n",
       "    </tr>\n",
       "  </tbody>\n",
       "</table>\n",
       "<p>10 rows × 82 columns</p>\n",
       "</div>"
      ],
      "text/plain": [
       "  ms.zoning  lot.frontage  lot.area street     alley lot.shape land.contour  \\\n",
       "0        RL         141.0     31770   Pave  No Alley       IR1          Lvl   \n",
       "1        RH          80.0     11622   Pave  No Alley       Reg          Lvl   \n",
       "2        RL          81.0     14267   Pave  No Alley       IR1          Lvl   \n",
       "3        RL          93.0     11160   Pave  No Alley       Reg          Lvl   \n",
       "4        RL          78.0      9978   Pave  No Alley       IR1          Lvl   \n",
       "5        RL          41.0      4920   Pave  No Alley       Reg          Lvl   \n",
       "6        RL          43.0      5005   Pave  No Alley       IR1          HLS   \n",
       "7        RL          39.0      5389   Pave  No Alley       IR1          Lvl   \n",
       "8        RL          60.0      7500   Pave  No Alley       Reg          Lvl   \n",
       "9        RL          75.0     10000   Pave  No Alley       IR1          Lvl   \n",
       "\n",
       "  lot.config land.slope neighborhood      ...      mo.sold yr.sold  \\\n",
       "0     Corner        Gtl        NAmes      ...            5    2010   \n",
       "1     Inside        Gtl        NAmes      ...            6    2010   \n",
       "2     Corner        Gtl        NAmes      ...            6    2010   \n",
       "3     Corner        Gtl        NAmes      ...            4    2010   \n",
       "4     Inside        Gtl      Gilbert      ...            6    2010   \n",
       "5     Inside        Gtl      StoneBr      ...            4    2010   \n",
       "6     Inside        Gtl      StoneBr      ...            1    2010   \n",
       "7     Inside        Gtl      StoneBr      ...            3    2010   \n",
       "8     Inside        Gtl      Gilbert      ...            6    2010   \n",
       "9     Corner        Gtl      Gilbert      ...            4    2010   \n",
       "\n",
       "       sale.type sale.condition  saleprice  ln.lot.frontage  ln.lot.area  \\\n",
       "0  Warranty Deed         Normal     215000         4.948760    10.366278   \n",
       "1  Warranty Deed         Normal     105000         4.382027     9.360655   \n",
       "2  Warranty Deed         Normal     172000         4.394449     9.565704   \n",
       "3  Warranty Deed         Normal     244000         4.532599     9.320091   \n",
       "4  Warranty Deed         Normal     195500         4.356709     9.208138   \n",
       "5  Warranty Deed         Normal     213500         3.713572     8.501064   \n",
       "6  Warranty Deed         Normal     191500         3.761200     8.518193   \n",
       "7  Warranty Deed         Normal     236500         3.663562     8.592115   \n",
       "8  Warranty Deed         Normal     189000         4.094345     8.922658   \n",
       "9  Warranty Deed         Normal     175900         4.317488     9.210340   \n",
       "\n",
       "   house.age yrs.since.remod has.2nd.floor  \n",
       "0         50              50             0  \n",
       "1         49              49             0  \n",
       "2         52              52             0  \n",
       "3         42              42             0  \n",
       "4         12              12             1  \n",
       "5          9               9             0  \n",
       "6         18              18             0  \n",
       "7         15              14             0  \n",
       "8         11              11             1  \n",
       "9         17              16             1  \n",
       "\n",
       "[10 rows x 82 columns]"
      ]
     },
     "execution_count": 3,
     "metadata": {},
     "output_type": "execute_result"
    }
   ],
   "source": [
    "train_data.head(n=10)"
   ]
  },
  {
   "cell_type": "markdown",
   "metadata": {},
   "source": [
    "Let's visualize the relationship between selling price and other numerical variables with a heatmap."
   ]
  },
  {
   "cell_type": "code",
   "execution_count": 4,
   "metadata": {},
   "outputs": [
    {
     "data": {
      "text/plain": [
       "<matplotlib.axes._subplots.AxesSubplot at 0x1a0c5a8400>"
      ]
     },
     "execution_count": 4,
     "metadata": {},
     "output_type": "execute_result"
    },
    {
     "data": {
      "image/png": "[encoded data removed]",
      "text/plain": [
       "<matplotlib.figure.Figure at 0x106434c18>"
      ]
     },
     "metadata": {},
     "output_type": "display_data"
    }
   ],
   "source": [
    "num_data = train_data[['saleprice','lot.frontage','lot.area','full.bath','bedroom.abvgr','yr.sold']]\n",
    "import seaborn as sns\n",
    "%matplotlib inline\n",
    "# calculate the correlation matrix\n",
    "corr = num_data.corr()\n",
    "\n",
    "# plot the heatmap\n",
    "sns.heatmap(corr, \n",
    "        xticklabels=corr.columns,\n",
    "        yticklabels=corr.columns)"
   ]
  },
  {
   "cell_type": "markdown",
   "metadata": {},
   "source": [
    "Now, let's do some regression analysis."
   ]
  },
  {
   "cell_type": "code",
   "execution_count": 5,
   "metadata": {},
   "outputs": [
    {
     "name": "stdout",
     "output_type": "stream",
     "text": [
      "[ 19627.81732177   5813.4115854   37233.08427629 -10049.36969879\n",
      "   1107.56454352]\n",
      "Lasso picked 5 variables and eliminated the other 0 variables\n"
     ]
    }
   ],
   "source": [
    "from sklearn import linear_model\n",
    "from sklearn.model_selection import train_test_split\n",
    "from sklearn.preprocessing import StandardScaler\n",
    "from sklearn.linear_model import LassoCV\n",
    "import numpy as np\n",
    "\n",
    "y=num_data['saleprice']\n",
    "X=num_data.drop('saleprice',axis=1)\n",
    "\n",
    "X_train, X_test, y_train, y_test = train_test_split(X, y, test_size=0.33, random_state=42)\n",
    "\n",
    "#Scale the data\n",
    "X_train = StandardScaler().fit_transform(X_train)\n",
    "X_test = StandardScaler().fit_transform(X_test)\n",
    "\n",
    "#do the prediction with Lasso Regression\n",
    "lasso_reg=LassoCV(alphas = 10**(np.linspace(-2, 10, num=100))).fit(X_test, y_test)\n",
    "print(lasso_reg.coef_)\n",
    "\n",
    "coef = pd.Series(lasso_reg.coef_, index = X.columns)\n",
    "\n",
    "print(\"Lasso picked \" + str(sum(coef != 0)) + \" variables and eliminated the other \" +  str(sum(coef == 0)) + \" variables\")\n"
   ]
  },
  {
   "cell_type": "markdown",
   "metadata": {},
   "source": [
    "Let's check the coefficients to see which parameters lasso picked."
   ]
  },
  {
   "cell_type": "code",
   "execution_count": 6,
   "metadata": {},
   "outputs": [
    {
     "data": {
      "text/plain": [
       "<matplotlib.text.Text at 0x1a15eb97b8>"
      ]
     },
     "execution_count": 6,
     "metadata": {},
     "output_type": "execute_result"
    },
    {
     "data": {
      "image/png": "[encoded data removed]",
      "text/plain": [
       "<matplotlib.figure.Figure at 0x1098d3e80>"
      ]
     },
     "metadata": {},
     "output_type": "display_data"
    }
   ],
   "source": [
    "import matplotlib \n",
    "import matplotlib.pyplot as plt\n",
    "imp_coef = pd.concat([coef.sort_values().head(5),\n",
    "                     coef.sort_values().tail(0)])\n",
    "    \n",
    "matplotlib.rcParams['figure.figsize'] = (8.0, 10.0)\n",
    "imp_coef.plot(kind = \"barh\")\n",
    "plt.title(\"Coefficients in the LassoLars Model\")"
   ]
  },
  {
   "cell_type": "markdown",
   "metadata": {},
   "source": [
    "Let's try the machine learning scikitlearn caret to do some simple knn. Let's pick a better dataset for classification first."
   ]
  },
  {
   "cell_type": "code",
   "execution_count": 7,
   "metadata": {
    "collapsed": true
   },
   "outputs": [],
   "source": [
    "from sklearn import datasets\n",
    "iris = datasets.load_iris()\n",
    "#convert into data frame\n",
    "df =  pd.DataFrame(data= np.c_[iris['data'], iris['target']],\n",
    "                     columns= iris['feature_names'] + ['target'])"
   ]
  },
  {
   "cell_type": "markdown",
   "metadata": {},
   "source": [
    "Split the data into training and test sets."
   ]
  },
  {
   "cell_type": "code",
   "execution_count": 8,
   "metadata": {
    "collapsed": true
   },
   "outputs": [],
   "source": [
    "y=df['target']\n",
    "X=df.drop('target',axis=1)\n",
    "\n",
    "X_train, X_test, y_train, y_test = train_test_split(X, y, test_size=0.33, random_state=42)"
   ]
  },
  {
   "cell_type": "markdown",
   "metadata": {},
   "source": [
    "Let's do the knn with 10 cross validations."
   ]
  },
  {
   "cell_type": "code",
   "execution_count": 9,
   "metadata": {
    "collapsed": true
   },
   "outputs": [],
   "source": [
    "from sklearn.neighbors import KNeighborsClassifier\n",
    "from sklearn.metrics import accuracy_score\n",
    "\n",
    "# instantiate learning model with auto option (picks the best algorithm for knn)\n",
    "knn = KNeighborsClassifier(algorithm='auto')\n",
    "\n",
    "#Scale the data \n",
    "X_train = StandardScaler().fit_transform(X_train)\n",
    "X_test = StandardScaler().fit_transform(X_test)\n",
    "\n",
    "# fit the model\n",
    "knn.fit(X_train, y_train)\n",
    "\n",
    "# predict the response\n",
    "pred = knn.predict(X_test)"
   ]
  },
  {
   "cell_type": "markdown",
   "metadata": {},
   "source": [
    "Let's check the accuracies."
   ]
  },
  {
   "cell_type": "code",
   "execution_count": 10,
   "metadata": {},
   "outputs": [
    {
     "name": "stdout",
     "output_type": "stream",
     "text": [
      "0.98\n"
     ]
    },
    {
     "ename": "NameError",
     "evalue": "name 'cross_val_score' is not defined",
     "output_type": "error",
     "traceback": [
      "\u001b[0;31m---------------------------------------------------------------------------\u001b[0m",
      "\u001b[0;31mNameError\u001b[0m                                 Traceback (most recent call last)",
      "\u001b[0;32m<ipython-input-10-c498ecd16859>\u001b[0m in \u001b[0;36m<module>\u001b[0;34m()\u001b[0m\n\u001b[1;32m      2\u001b[0m \u001b[0mprint\u001b[0m\u001b[0;34m(\u001b[0m\u001b[0maccuracy_score\u001b[0m\u001b[0;34m(\u001b[0m\u001b[0my_test\u001b[0m\u001b[0;34m,\u001b[0m \u001b[0mpred\u001b[0m\u001b[0;34m)\u001b[0m\u001b[0;34m)\u001b[0m\u001b[0;34m\u001b[0m\u001b[0m\n\u001b[1;32m      3\u001b[0m \u001b[0;34m\u001b[0m\u001b[0m\n\u001b[0;32m----> 4\u001b[0;31m \u001b[0mcross_val_score\u001b[0m\u001b[0;34m(\u001b[0m\u001b[0mknn\u001b[0m\u001b[0;34m,\u001b[0m \u001b[0mX_train\u001b[0m\u001b[0;34m,\u001b[0m \u001b[0my_train\u001b[0m\u001b[0;34m,\u001b[0m \u001b[0mcv\u001b[0m\u001b[0;34m=\u001b[0m\u001b[0;36m10\u001b[0m\u001b[0;34m,\u001b[0m \u001b[0mscoring\u001b[0m\u001b[0;34m=\u001b[0m\u001b[0;34m'accuracy'\u001b[0m\u001b[0;34m)\u001b[0m\u001b[0;34m\u001b[0m\u001b[0m\n\u001b[0m",
      "\u001b[0;31mNameError\u001b[0m: name 'cross_val_score' is not defined"
     ]
    }
   ],
   "source": [
    "# evaluate accuracy\n",
    "print(accuracy_score(y_test, pred))\n",
    "\n",
    "cross_val_score(knn, X_train, y_train, cv=10, scoring='accuracy')"
   ]
  },
  {
   "cell_type": "markdown",
   "metadata": {},
   "source": [
    "How long does this all take?"
   ]
  },
  {
   "cell_type": "code",
   "execution_count": null,
   "metadata": {},
   "outputs": [],
   "source": [
    "end_time = time.time()\n",
    "print(end_time-start_time)"
   ]
  }
 ],
 "metadata": {
  "kernelspec": {
   "display_name": "Python 3",
   "language": "python",
   "name": "python3"
  },
  "language_info": {
   "codemirror_mode": {
    "name": "ipython",
    "version": 3
   },
   "file_extension": ".py",
   "mimetype": "text/x-python",
   "name": "python",
   "nbconvert_exporter": "python",
   "pygments_lexer": "ipython3",
   "version": "3.6.2"
  }
 },
 "nbformat": 4,
 "nbformat_minor": 2
}
